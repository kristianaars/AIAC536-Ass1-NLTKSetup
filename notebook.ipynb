{
 "cells": [
  {
   "cell_type": "markdown",
   "source": [
    "# AIAC536 Assignment 1 - Text Classification and POS Tagging Using NLTK\n",
    "This assignment is taken from the book *Hands-On Python Natural Language Processing* by Aman Kedia and Mayank Rasu.\n",
    "\n",
    "## 1 Setting up NLTK\n",
    "Run the following commands to install NLTK and Numpy\n",
    "```bash\n",
    "sudo pip install -U nltk\n",
    "sudo pip install -U numpy\n",
    "```\n",
    "\n",
    "Furthermore, run the block below to install required collections, text corpora, NLTK models, and packages:\n",
    "- brown\n",
    "- gutenberg\n",
    "- max_ne_chunker\n",
    "- movie_reviews\n",
    "- product_review_1\n",
    "- punkt\n",
    "- treebank\n",
    "- twitter_samples\n",
    "- universal_tagset\n",
    "- webtext\n",
    "- wordnet\n",
    "- words\n"
   ],
   "metadata": {
    "collapsed": false
   }
  },
  {
   "cell_type": "code",
   "execution_count": 22,
   "outputs": [
    {
     "name": "stderr",
     "output_type": "stream",
     "text": [
      "[nltk_data] Downloading package brown to\n",
      "[nltk_data]     /Users/kristian.aars/nltk_data...\n",
      "[nltk_data]   Package brown is already up-to-date!\n",
      "[nltk_data] Downloading package gutenberg to\n",
      "[nltk_data]     /Users/kristian.aars/nltk_data...\n",
      "[nltk_data]   Package gutenberg is already up-to-date!\n",
      "[nltk_data] Error loading max_ne_chunker: Package 'max_ne_chunker' not\n",
      "[nltk_data]     found in index\n",
      "[nltk_data] Downloading package movie_reviews to\n",
      "[nltk_data]     /Users/kristian.aars/nltk_data...\n",
      "[nltk_data]   Package movie_reviews is already up-to-date!\n",
      "[nltk_data] Downloading package product_reviews_1 to\n",
      "[nltk_data]     /Users/kristian.aars/nltk_data...\n",
      "[nltk_data]   Package product_reviews_1 is already up-to-date!\n",
      "[nltk_data] Downloading package punkt to\n",
      "[nltk_data]     /Users/kristian.aars/nltk_data...\n",
      "[nltk_data]   Package punkt is already up-to-date!\n",
      "[nltk_data] Downloading package treebank to\n",
      "[nltk_data]     /Users/kristian.aars/nltk_data...\n",
      "[nltk_data]   Package treebank is already up-to-date!\n",
      "[nltk_data] Downloading package twitter_samples to\n",
      "[nltk_data]     /Users/kristian.aars/nltk_data...\n",
      "[nltk_data]   Package twitter_samples is already up-to-date!\n",
      "[nltk_data] Downloading package universal_tagset to\n",
      "[nltk_data]     /Users/kristian.aars/nltk_data...\n",
      "[nltk_data]   Package universal_tagset is already up-to-date!\n",
      "[nltk_data] Downloading package webtext to\n",
      "[nltk_data]     /Users/kristian.aars/nltk_data...\n",
      "[nltk_data]   Package webtext is already up-to-date!\n",
      "[nltk_data] Downloading package wordnet to\n",
      "[nltk_data]     /Users/kristian.aars/nltk_data...\n",
      "[nltk_data]   Package wordnet is already up-to-date!\n",
      "[nltk_data] Downloading package words to\n",
      "[nltk_data]     /Users/kristian.aars/nltk_data...\n",
      "[nltk_data]   Package words is already up-to-date!\n",
      "[nltk_data] Downloading package stopwords to\n",
      "[nltk_data]     /Users/kristian.aars/nltk_data...\n",
      "[nltk_data]   Unzipping corpora/stopwords.zip.\n"
     ]
    },
    {
     "data": {
      "text/plain": "True"
     },
     "execution_count": 22,
     "metadata": {},
     "output_type": "execute_result"
    }
   ],
   "source": [
    "import nltk\n",
    "nltk.download('brown')\n",
    "nltk.download('gutenberg')\n",
    "nltk.download('max_ne_chunker')\n",
    "nltk.download('movie_reviews')\n",
    "nltk.download('product_reviews_1')\n",
    "nltk.download('punkt')\n",
    "nltk.download('treebank')\n",
    "nltk.download('twitter_samples')\n",
    "nltk.download('universal_tagset')\n",
    "nltk.download('webtext')\n",
    "nltk.download('wordnet')\n",
    "nltk.download('words')\n",
    "nltk.download('stopwords')"
   ],
   "metadata": {
    "collapsed": false
   }
  },
  {
   "cell_type": "markdown",
   "source": [
    "## Tokenization\n",
    "First, we're importing some sample twitter data"
   ],
   "metadata": {
    "collapsed": false
   }
  },
  {
   "cell_type": "code",
   "execution_count": 6,
   "outputs": [
    {
     "data": {
      "text/plain": "['@',\n 'B0MBSKARE',\n 'the',\n 'anti-Scottish',\n 'feeling',\n 'is',\n 'largely',\n 'a',\n 'product',\n 'of',\n 'Tory',\n 'press',\n 'scaremongering',\n '.',\n 'In',\n 'practice',\n 'most',\n 'people',\n 'wo',\n \"n't\",\n 'give',\n 'a',\n 'toss',\n '!']"
     },
     "execution_count": 6,
     "metadata": {},
     "output_type": "execute_result"
    }
   ],
   "source": [
    "import nltk\n",
    "from nltk.corpus import twitter_samples as ts\n",
    "ts.fileids()\n",
    "\n",
    "samples_tw = ts.strings('tweets.20150430-223406.json')"
   ],
   "metadata": {
    "collapsed": false
   }
  },
  {
   "cell_type": "markdown",
   "source": [
    "### Word Tokenization"
   ],
   "metadata": {
    "collapsed": false
   }
  },
  {
   "cell_type": "code",
   "execution_count": 7,
   "outputs": [
    {
     "data": {
      "text/plain": "['@',\n 'B0MBSKARE',\n 'the',\n 'anti-Scottish',\n 'feeling',\n 'is',\n 'largely',\n 'a',\n 'product',\n 'of',\n 'Tory',\n 'press',\n 'scaremongering',\n '.',\n 'In',\n 'practice',\n 'most',\n 'people',\n 'wo',\n \"n't\",\n 'give',\n 'a',\n 'toss',\n '!']"
     },
     "execution_count": 7,
     "metadata": {},
     "output_type": "execute_result"
    }
   ],
   "source": [
    "from nltk.tokenize import word_tokenize as wtoken\n",
    "\n",
    "wtoken(samples_tw[20])"
   ],
   "metadata": {
    "collapsed": false
   }
  },
  {
   "cell_type": "markdown",
   "source": [
    "### Punctuation Tokenization"
   ],
   "metadata": {
    "collapsed": false
   }
  },
  {
   "cell_type": "code",
   "execution_count": 8,
   "outputs": [
    {
     "data": {
      "text/plain": "['@',\n 'B0MBSKARE',\n 'the',\n 'anti',\n '-',\n 'Scottish',\n 'feeling',\n 'is',\n 'largely',\n 'a',\n 'product',\n 'of',\n 'Tory',\n 'press',\n 'scaremongering',\n '.',\n 'In',\n 'practice',\n 'most',\n 'people',\n 'won',\n \"'\",\n 't',\n 'give',\n 'a',\n 'toss',\n '!']"
     },
     "execution_count": 8,
     "metadata": {},
     "output_type": "execute_result"
    }
   ],
   "source": [
    "from nltk.tokenize import wordpunct_tokenize as wptoken\n",
    "\n",
    "wptoken(samples_tw[20])"
   ],
   "metadata": {
    "collapsed": false
   }
  },
  {
   "cell_type": "markdown",
   "source": [
    "### Custom Tokenizer Using RegEx"
   ],
   "metadata": {
    "collapsed": false
   }
  },
  {
   "cell_type": "code",
   "execution_count": 14,
   "outputs": [
    {
     "name": "stdout",
     "output_type": "stream",
     "text": [
      "['B0MBSKARE', 'the', 'anti', 'Scottish', 'feeling', 'is', 'largely', 'a', 'product', 'of', 'Tory', 'press', 'scaremongering', 'In', 'practice', 'most', 'people', 'won', 't', 'give', 'a', 'toss']\n",
      "['B0MBSKARE', 'the', 'anti', '-', 'Scottish', 'feeling', 'is', 'largely', 'a', 'product', 'of', 'Tory', 'press', 'scaremongering', 'In', 'practice', 'most', 'people', 'won', 't', 'give', 'a', 'toss', '!']\n"
     ]
    }
   ],
   "source": [
    "from nltk import regexp_tokenize\n",
    "\n",
    "## Only tokens containing pure latin alphabet letters\n",
    "pattern = '\\w+'\n",
    "print(regexp_tokenize(samples_tw[20], pattern))\n",
    "\n",
    "## Includes some punctuation characters\n",
    "pattern = '\\w+|[!,\\-,]'\n",
    "print(regexp_tokenize(samples_tw[20], pattern))\n"
   ],
   "metadata": {
    "collapsed": false
   }
  },
  {
   "cell_type": "markdown",
   "source": [
    "## Stemming\n",
    "Stemming is the process of transforming different forms of a word to a common word. Such as walking to it's base form walk. This example uses the `PorterStemmer`"
   ],
   "metadata": {
    "collapsed": false
   }
  },
  {
   "cell_type": "code",
   "execution_count": 17,
   "outputs": [
    {
     "name": "stdout",
     "output_type": "stream",
     "text": [
      "walk\n",
      "enjoy\n",
      "enjoy\n"
     ]
    }
   ],
   "source": [
    "from nltk.stem import PorterStemmer\n",
    "\n",
    "stemming = PorterStemmer()\n",
    "\n",
    "print(stemming.stem('walking'))\n",
    "print(stemming.stem('enjoys'))\n",
    "print(stemming.stem('enjoyable'))"
   ],
   "metadata": {
    "collapsed": false
   }
  },
  {
   "cell_type": "markdown",
   "source": [
    "### Custom Stemmer With RegEx"
   ],
   "metadata": {
    "collapsed": false
   }
  },
  {
   "cell_type": "code",
   "execution_count": 18,
   "outputs": [
    {
     "name": "stdout",
     "output_type": "stream",
     "text": [
      "fly\n",
      "fly\n"
     ]
    }
   ],
   "source": [
    "from nltk import RegexpStemmer\n",
    "\n",
    "regexp_stemmer = RegexpStemmer(\"able$|ing$\",min=4)\n",
    "print(regexp_stemmer.stem('flyable'))\n",
    "print(regexp_stemmer.stem('flying'))\n"
   ],
   "metadata": {
    "collapsed": false
   }
  },
  {
   "cell_type": "markdown",
   "source": [
    "## Removing Stop Words"
   ],
   "metadata": {
    "collapsed": false
   }
  },
  {
   "cell_type": "code",
   "execution_count": 24,
   "outputs": [
    {
     "data": {
      "text/plain": "['This', 'example', 'sentence', 'test', 'stopwords']"
     },
     "execution_count": 24,
     "metadata": {},
     "output_type": "execute_result"
    }
   ],
   "source": [
    "from nltk.corpus import stopwords\n",
    "\n",
    "sw_l = stopwords.words('english')\n",
    "example_test = 'This is an example sentence to test stopwords'\n",
    "\n",
    "## Remove words which exist in stop words list\n",
    "[word for word in example_test.split() if word not in sw_l]"
   ],
   "metadata": {
    "collapsed": false
   }
  },
  {
   "cell_type": "markdown",
   "source": [
    "Now, lets calculate the percentage amount of stop words in Shakespeare Hamlet."
   ],
   "metadata": {
    "collapsed": false
   }
  },
  {
   "cell_type": "code",
   "execution_count": 28,
   "outputs": [
    {
     "data": {
      "text/plain": "69.26124197002142"
     },
     "execution_count": 28,
     "metadata": {},
     "output_type": "execute_result"
    }
   ],
   "source": [
    "from nltk.corpus import gutenberg\n",
    "\n",
    "words_in_hamlet = gutenberg.words('shakespeare-hamlet.txt')\n",
    "words_in_hamlet_wo_sw = [word for word in words_in_hamlet if word not in sw_l]\n",
    "\n",
    "## Calculate percentage\n",
    "len(words_in_hamlet_wo_sw) * 100.0 / len(words_in_hamlet)"
   ],
   "metadata": {
    "collapsed": false
   }
  },
  {
   "cell_type": "code",
   "execution_count": null,
   "outputs": [],
   "source": [],
   "metadata": {
    "collapsed": false
   }
  }
 ],
 "metadata": {
  "kernelspec": {
   "display_name": "Python 3",
   "language": "python",
   "name": "python3"
  },
  "language_info": {
   "codemirror_mode": {
    "name": "ipython",
    "version": 2
   },
   "file_extension": ".py",
   "mimetype": "text/x-python",
   "name": "python",
   "nbconvert_exporter": "python",
   "pygments_lexer": "ipython2",
   "version": "2.7.6"
  }
 },
 "nbformat": 4,
 "nbformat_minor": 0
}
